{
 "cells": [
  {
   "cell_type": "markdown",
   "metadata": {},
   "source": [
    "从含有pose信息的文本文件里，找出指定文件夹中所有图像的pose信息，并记录。"
   ]
  },
  {
   "cell_type": "code",
   "execution_count": 124,
   "metadata": {},
   "outputs": [],
   "source": [
    "import os"
   ]
  },
  {
   "cell_type": "code",
   "execution_count": 125,
   "metadata": {},
   "outputs": [],
   "source": [
    "def read_file_list(filename):\n",
    "    \"\"\"\n",
    "    Reads a trajectory from a text file. \n",
    "    \n",
    "    File format:\n",
    "    The file format is \"stamp d1 d2 d3 ...\", where stamp denotes the time stamp (to be matched)\n",
    "    and \"d1 d2 d3..\" is arbitary data (e.g., a 3D position and 3D orientation) associated to this timestamp. \n",
    "    \n",
    "    Input:\n",
    "    filename -- File name\n",
    "    \n",
    "    Output:\n",
    "    dict -- dictionary of (stamp,data) tuples\n",
    "    \n",
    "    \"\"\"\n",
    "    file = open(filename)\n",
    "    data = file.read()\n",
    "    lines = data.replace(\"\\t\",\" \").split(\"\\n\") \n",
    "    list = [[v.strip() for v in line.split(\" \") if v.strip()!=\"\"] for line in lines if len(line)>0 and line[0]!=\"#\"]\n",
    "    #list = [[float(l[0]),float(l[1]),float(l[2]),float(l[3]),float(l[4]),float(l[5]),float(l[6]),float(l[7])] for l in list if len(l)>1]\n",
    "    list = [(l[0],l[1:]) for l in list if len(l)>1]\n",
    "    return dict(list)"
   ]
  },
  {
   "cell_type": "code",
   "execution_count": 126,
   "metadata": {},
   "outputs": [],
   "source": [
    "def read_image_list(image_dir):\n",
    "    '''\n",
    "    Input:\n",
    "    filename -- File name\n",
    "    \n",
    "    Output:\n",
    "    list -- list of imagenames e.g.['png1','png2',...]\n",
    "    \n",
    "    '''\n",
    "    for root, dirs, files in os.walk(image_dir):\n",
    "        #print(root) 当前目录路径\n",
    "        #print(dirs) 当前目录下所有子目录\n",
    "        #print(files) #当前目录下所有非目录的子文件\n",
    "        #files = [float(i) for i in files]\n",
    "        files = [v.split(\".png\") for v in files]\n",
    "        data=[i[0] for i in files]\n",
    "        return data"
   ]
  },
  {
   "cell_type": "code",
   "execution_count": 127,
   "metadata": {},
   "outputs": [],
   "source": [
    "def associate(filelist,poselist):\n",
    "    '''\n",
    "    Input:\n",
    "    filelist -- list of imagenames\n",
    "    poselist -- dict of pose information\n",
    "    max_difference -- search radius for candidate generation\n",
    "    \n",
    "    Output:\n",
    "    potential_matches -- list of matched tuples,e.g.[['1305032360.994081', '1305032360.9903'], ['1305032365.99406', '1305032365.9903'],...]\n",
    "    '''\n",
    "    poselist_keys=poselist.keys()\n",
    "    potential_matches=[]\n",
    "    \n",
    "    for a in filelist:\n",
    "        timestamp=1\n",
    "        for b in poselist_keys:\n",
    "            if abs(float(a)-float(b))<timestamp:\n",
    "                timestamp=abs(float(a)-float(b))\n",
    "                potential_match=[a,b]\n",
    "        potential_matches.append(potential_match)\n",
    "    return potential_matches"
   ]
  },
  {
   "cell_type": "code",
   "execution_count": 128,
   "metadata": {},
   "outputs": [],
   "source": [
    "'''\n",
    "list1 以字典形式存放groundtruth\n",
    "image_dir 存放所有待匹配照片的文件名\n",
    "matched 存放匹配关系\n",
    "'''\n",
    "list1=read_file_list(\"/home/cyj/github_project/Keras-CNN-Image-Retrieval/all_data/TUM-rgbd/rgbd_dataset_freiburg1_plant/groundtruth.txt\")\n",
    "#print(list1)\n",
    "image_dir=read_image_list(\"/home/cyj/github_project/Keras-CNN-Image-Retrieval/all_data/TUM-rgbd/rgbd_dataset_freiburg1_plant/test\")\n",
    "#print(image_dir)\n",
    "matched=associate(image_dir,list1)\n",
    "#print(matched)\n",
    "groundturth_file=\"/home/cyj/github_project/Keras-CNN-Image-Retrieval/all_data/TUM-rgbd/rgbd_dataset_freiburg1_plant/test_pose.txt\"\n",
    "\n",
    "#将每张照片对应的最近的参数设置为当前照片的\n",
    "with open(groundturth_file,\"w\",encoding=\"utf-8\") as f:\n",
    "    for i in matched:\n",
    "        image_pose=str(i[0])+\" \"+list1[i[1]][0]+\" \"+list1[i[1]][1]+\" \"+list1[i[1]][2]+\" \"+list1[i[1]][3]+\" \"+list1[i[1]][4]+\" \"+list1[i[1]][5]+\" \"+list1[i[1]][6]+\"\\n\"\n",
    "        f.write(image_pose)\n",
    "#按文件出现的先后排列\n",
    "with open(groundturth_file,\"r\",encoding=\"utf-8\") as f1:\n",
    "    lines = f1.readlines()\n",
    "    #print(lines)\n",
    "lines.sort()\n",
    "with open(groundturth_file,\"w\",encoding=\"utf-8\") as f_w:\n",
    "    for line in lines:\n",
    "        f_w.write(line)"
   ]
  },
  {
   "cell_type": "code",
   "execution_count": null,
   "metadata": {},
   "outputs": [],
   "source": []
  }
 ],
 "metadata": {
  "kernelspec": {
   "display_name": "Python 3",
   "language": "python",
   "name": "python3"
  },
  "language_info": {
   "codemirror_mode": {
    "name": "ipython",
    "version": 3
   },
   "file_extension": ".py",
   "mimetype": "text/x-python",
   "name": "python",
   "nbconvert_exporter": "python",
   "pygments_lexer": "ipython3",
   "version": "3.6.3"
  }
 },
 "nbformat": 4,
 "nbformat_minor": 2
}
